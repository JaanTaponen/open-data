{
 "cells": [
  {
   "cell_type": "code",
   "execution_count": 1,
   "metadata": {
    "collapsed": true
   },
   "outputs": [],
   "source": [
    "from azure.storage.blob import BlockBlobService \n",
    "import os\n",
    "import pandas as pd\n",
    "import datetime"
   ]
  },
  {
   "cell_type": "code",
   "execution_count": 10,
   "metadata": {
    "collapsed": true
   },
   "outputs": [],
   "source": [
    "def get_blob_service():\n",
    "    account_name = '' # Insert Azure account name \n",
    "    account_key = '' # Insert Azure account key\n",
    "    return BlockBlobService(account_name=account_name, account_key=account_key)"
   ]
  },
  {
   "cell_type": "code",
   "execution_count": 8,
   "metadata": {
    "collapsed": true
   },
   "outputs": [],
   "source": [
    "def move_to_blob(blob_serv, container, filename):\n",
    "    cwd = os.getcwd()\n",
    "    file_path = os.path.join(cwd, filename)\n",
    "    blob_serv.create_blob_from_path(container, filename, file_path)"
   ]
  },
  {
   "cell_type": "code",
   "execution_count": 12,
   "metadata": {
    "collapsed": true
   },
   "outputs": [],
   "source": [
    "blob_serv = get_blob_service()\n",
    "container = 'income' \n",
    "move_to_blob(blob_serv, container, '2019-03-16_perus.csv')"
   ]
  },
  {
   "cell_type": "code",
   "execution_count": 20,
   "metadata": {
    "collapsed": true
   },
   "outputs": [],
   "source": [
    "def combine_dfs(df1, df2):\n",
    "    return pd.concat([df1, df2])"
   ]
  },
  {
   "cell_type": "code",
   "execution_count": 21,
   "metadata": {},
   "outputs": [
    {
     "name": "stdout",
     "output_type": "stream",
     "text": [
      "(1163, 8)\n",
      "(352, 8)\n",
      "(1515, 8)\n"
     ]
    }
   ],
   "source": [
    "perus_df = pd.read_csv('2019-03-16_perus.csv')\n",
    "print(perus_df.shape)\n",
    "jatko_df = pd.read_csv('2019-03-16_jatko.csv')\n",
    "print(jatko_df.shape)\n",
    "full_df = combine_dfs(perus_df, jatko_df)\n",
    "print(full_df.shape)"
   ]
  },
  {
   "cell_type": "code",
   "execution_count": 24,
   "metadata": {
    "collapsed": true
   },
   "outputs": [],
   "source": [
    "filename = datetime.datetime.today().strftime('%Y-%m-%d_') + \"full.csv\"\n",
    "full_df.to_csv(filename, encoding='utf-8')"
   ]
  },
  {
   "cell_type": "code",
   "execution_count": 25,
   "metadata": {
    "collapsed": true
   },
   "outputs": [],
   "source": [
    "move_to_blob(blob_serv, container, '2019-03-17_full.csv')"
   ]
  },
  {
   "cell_type": "code",
   "execution_count": 26,
   "metadata": {},
   "outputs": [
    {
     "name": "stdout",
     "output_type": "stream",
     "text": [
      "Following blobs are in my container:\n",
      "2019-03-16_jatko.csv\n",
      "2019-03-16_perus.csv\n",
      "2019-03-17_full.csv\n"
     ]
    }
   ],
   "source": [
    "blobs = blob_serv.list_blobs(mycontainer)\n",
    "print(\"Following blobs are in my container:\")\n",
    "for blob in blobs:\n",
    "    print(blob.name)"
   ]
  },
  {
   "cell_type": "code",
   "execution_count": null,
   "metadata": {
    "collapsed": true
   },
   "outputs": [],
   "source": []
  },
  {
   "cell_type": "code",
   "execution_count": 29,
   "metadata": {},
   "outputs": [
    {
     "data": {
      "text/plain": [
       "['C:\\\\Users\\\\Aleksi Roima\\\\Documents\\\\azure_config.txt']"
      ]
     },
     "execution_count": 29,
     "metadata": {},
     "output_type": "execute_result"
    }
   ],
   "source": [
    "import configparser\n",
    "config = configparser.ConfigParser()\n",
    "config.read(\"C:\\\\Users\\\\Aleksi Roima\\\\Documents\\\\azure_config.txt\")"
   ]
  },
  {
   "cell_type": "code",
   "execution_count": 30,
   "metadata": {},
   "outputs": [
    {
     "data": {
      "text/plain": [
       "'scilstorageaccount'"
      ]
     },
     "execution_count": 30,
     "metadata": {},
     "output_type": "execute_result"
    }
   ],
   "source": [
    "config.get('Azure', 'storage_account')"
   ]
  },
  {
   "cell_type": "code",
   "execution_count": 31,
   "metadata": {},
   "outputs": [
    {
     "data": {
      "text/plain": [
       "'Iwagc3JvtouZNgCvcodB8E6+eEE+JLBS9a4QDHbNSXxquqkSVpyXd3EJ80gwG2B3XEoLZdk8zwDA8Qqx67JCdA=='"
      ]
     },
     "execution_count": 31,
     "metadata": {},
     "output_type": "execute_result"
    }
   ],
   "source": [
    "config.get('Azure', 'storage_key')"
   ]
  },
  {
   "cell_type": "code",
   "execution_count": null,
   "metadata": {
    "collapsed": true
   },
   "outputs": [],
   "source": []
  }
 ],
 "metadata": {
  "kernelspec": {
   "display_name": "Python 3",
   "language": "python",
   "name": "python3"
  },
  "language_info": {
   "codemirror_mode": {
    "name": "ipython",
    "version": 3
   },
   "file_extension": ".py",
   "mimetype": "text/x-python",
   "name": "python",
   "nbconvert_exporter": "python",
   "pygments_lexer": "ipython3",
   "version": "3.6.3"
  }
 },
 "nbformat": 4,
 "nbformat_minor": 2
}
