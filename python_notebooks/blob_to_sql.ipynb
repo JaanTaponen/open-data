{
 "cells": [
  {
   "cell_type": "code",
   "execution_count": 33,
   "metadata": {
    "collapsed": true
   },
   "outputs": [],
   "source": [
    "from azure.storage.blob import BlockBlobService\n",
    "import pandas as pd\n",
    "from io import BytesIO\n",
    "import pyodbc\n",
    "import numpy as np\n",
    "from sqlalchemy import create_engine"
   ]
  },
  {
   "cell_type": "code",
   "execution_count": 12,
   "metadata": {
    "collapsed": true
   },
   "outputs": [],
   "source": [
    "def get_full_data():\n",
    "    acc_name = '' # Insert Azure account name\n",
    "    acc_key = '' # Insert Azure account key\n",
    "    blob_serv = BlockBlobService(account_name=acc_name, account_key=acc_key)\n",
    "    blobs = blob_serv.list_blobs('income')\n",
    "    for blob in blobs:\n",
    "        if '_full' in blob.name:\n",
    "            blobStr = blob_serv.get_blob_to_bytes('income', blob.name).content\n",
    "            return pd.read_csv(BytesIO(blobStr))\n",
    "    return None"
   ]
  },
  {
   "cell_type": "code",
   "execution_count": 51,
   "metadata": {
    "collapsed": true
   },
   "outputs": [],
   "source": [
    "def rename_columns(data):\n",
    "    return data.rename(columns={'Unnamed: 0': 'course_code',\n",
    "                             'Course name': 'course_name',\n",
    "                             'Credits': 'credits',\n",
    "                             'Learning goals': 'learning_goals',\n",
    "                             'Responsible': 'responsible',\n",
    "                             'Period': 'period',\n",
    "                             'Theme': 'theme',\n",
    "                             'URL': 'link'})"
   ]
  },
  {
   "cell_type": "code",
   "execution_count": 45,
   "metadata": {
    "collapsed": true
   },
   "outputs": [],
   "source": [
    "connectionstring = 'mssql+pyodbc://{uid}:{password}@{server}:1433/{database}?driver={driver}'.format(\n",
    "        uid = ,# Insert personal config\n",
    "        password = # Insert personal config,\n",
    "        server = # Insert personal config,\n",
    "        database = # Insert personal config,\n",
    "        driver=# Insert personal config#.replace(' ', '+'))\n",
    "df.to_sql('course_data', connectionstring, if_exists='append', index=False)"
   ]
  },
  {
   "cell_type": "code",
   "execution_count": 52,
   "metadata": {
    "collapsed": true
   },
   "outputs": [],
   "source": [
    "def insert_to_sql_db(data)    \n",
    "    connectionstring = 'mssql+pyodbc://{uid}:{password}@{server}:1433/{database}?driver={driver}'.format(\n",
    "        uid = ,# Insert personal config\n",
    "        password = # Insert personal config,\n",
    "        server = # Insert personal config,\n",
    "        database = # Insert personal config,\n",
    "        driver=# Insert personal config#.replace(' ', '+'))\n",
    "    data.to_sql('course_data', connectionstring, if_exists='append', index=False)"
   ]
  },
  {
   "cell_type": "code",
   "execution_count": null,
   "metadata": {
    "collapsed": true
   },
   "outputs": [],
   "source": [
    "def main():\n",
    "    data = get_full_data()\n",
    "    data = rename_columns(data)\n",
    "    insert_to_sql_db(data)\n",
    "main()"
   ]
  }
 ],
 "metadata": {
  "kernelspec": {
   "display_name": "Python 3",
   "language": "python",
   "name": "python3"
  },
  "language_info": {
   "codemirror_mode": {
    "name": "ipython",
    "version": 3
   },
   "file_extension": ".py",
   "mimetype": "text/x-python",
   "name": "python",
   "nbconvert_exporter": "python",
   "pygments_lexer": "ipython3",
   "version": "3.6.3"
  }
 },
 "nbformat": 4,
 "nbformat_minor": 2
}
