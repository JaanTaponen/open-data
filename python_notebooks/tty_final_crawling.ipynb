{
 "cells": [
  {
   "cell_type": "code",
   "execution_count": 44,
   "metadata": {
    "collapsed": true
   },
   "outputs": [],
   "source": [
    "import requests  \n",
    "import contextlib \n",
    "from bs4 import BeautifulSoup as soup\n",
    "import re\n",
    "import os\n",
    "import pandas as pd\n",
    "import datetime\n",
    "import configparser\n",
    "from azure.storage.blob import BlockBlobService "
   ]
  },
  {
   "cell_type": "code",
   "execution_count": 45,
   "metadata": {
    "collapsed": true
   },
   "outputs": [],
   "source": [
    "def simple_get(url):\n",
    "    try:\n",
    "        with contextlib.closing(requests.get(url, stream=True)) as response:\n",
    "            if good_response(response):\n",
    "                return response.content\n",
    "            else:\n",
    "                return None\n",
    "\n",
    "    except RequestException as e:\n",
    "        print('Error during requests to {0} : {1}'.format(url, str(e)))\n",
    "        return None\n",
    "\n",
    "\n",
    "def good_response(response):\n",
    "    content_type = response.headers['Content-Type'].lower()\n",
    "    return (response.status_code == 200 \n",
    "            and content_type is not None \n",
    "            and content_type.find('html') > -1)"
   ]
  },
  {
   "cell_type": "code",
   "execution_count": 46,
   "metadata": {
    "collapsed": true
   },
   "outputs": [],
   "source": [
    "def get_urls_from_ul(ul, ps_letters):\n",
    "    # args: ul - ul block from html\n",
    "    # ps_letters: amount of parsable letters from the href string\n",
    "    base_url = 'http://www.tut.fi/opinto-opas/wwwoppaat/opas2018-2019/'\n",
    "    theme_urls = []\n",
    "    for theme in ul.find_all(href=True):\n",
    "        url = base_url + theme['href'][ps_letters:]\n",
    "        theme_urls.append(url)\n",
    "    return theme_urls"
   ]
  },
  {
   "cell_type": "code",
   "execution_count": 47,
   "metadata": {
    "collapsed": true
   },
   "outputs": [],
   "source": [
    "def get_course_urls(theme_urls):\n",
    "    all_urls = {}\n",
    "    for url in theme_urls:\n",
    "        raw_html = simple_get(url)\n",
    "        html = soup(raw_html, 'html.parser')\n",
    "        theme_name = html.find('h2').text\n",
    "        c_urls = get_urls_from_ul(html.find_all('ul')[3], 9)\n",
    "        all_urls[theme_name] = c_urls\n",
    "    return all_urls"
   ]
  },
  {
   "cell_type": "code",
   "execution_count": 48,
   "metadata": {
    "collapsed": true
   },
   "outputs": [],
   "source": [
    "def get_period(html):\n",
    "    try: \n",
    "        period = html.find_all('tr')[1].find('td').find_next('td').contents[0]\n",
    "        return [s for s in period.split() if s.isdigit()][0]\n",
    "    except:\n",
    "        return '-'"
   ]
  },
  {
   "cell_type": "code",
   "execution_count": 49,
   "metadata": {
    "collapsed": true
   },
   "outputs": [],
   "source": [
    "def get_credits(text):\n",
    "    text = text.replace('-', ' ')\n",
    "    digits = [s for s in text.split() if s.isdigit()]\n",
    "    if len(digits) == 1:\n",
    "        return digits[0]\n",
    "    else:\n",
    "        return digits[0] + ' - ' + digits[1]"
   ]
  },
  {
   "cell_type": "code",
   "execution_count": 50,
   "metadata": {
    "collapsed": true
   },
   "outputs": [],
   "source": [
    "def get_learn_goals(html):\n",
    "    try: \n",
    "        return html.find(text=\"Osaamistavoitteet\").find_next('p').text.replace(\"\\r\\n\",\"\")\n",
    "    except:\n",
    "        return '-'"
   ]
  },
  {
   "cell_type": "code",
   "execution_count": 51,
   "metadata": {
    "collapsed": true
   },
   "outputs": [],
   "source": [
    "def parse_header(html):\n",
    "    name_and_credits = html.find_all('h1')[1].text\n",
    "    code_end = name_and_credits.find(' ')    \n",
    "    code = name_and_credits[:code_end]\n",
    "    try:\n",
    "        op_index = re.search(', [0-9-]+ op', name_and_credits).start()\n",
    "    except:\n",
    "        op_index = re.search(', [0-9-]+ cr', name_and_credits).start()\n",
    "    name = name_and_credits[code_end:op_index]\n",
    "    credits = get_credits(name_and_credits[op_index:])\n",
    "    return code, name, credits"
   ]
  },
  {
   "cell_type": "code",
   "execution_count": 52,
   "metadata": {
    "collapsed": true
   },
   "outputs": [],
   "source": [
    "def scrape_single_course(url, theme):\n",
    "    \n",
    "    raw_html = simple_get(url)\n",
    "    html = soup(raw_html, 'html.parser')\n",
    "    \n",
    "    course_code, course_name, credits = parse_header(html) \n",
    "    learn_goals = get_learn_goals(html)\n",
    "    teacher = html.find(text=\"Vastuuhenkilö\").find_next('p').contents[0]\n",
    "    period = get_period(html)\n",
    "    \n",
    "    values = {\n",
    "        \"Course name\" : course_name,\n",
    "        \"Credits\" : credits,\n",
    "        \"Learning goals\" : learn_goals,\n",
    "        \"Responsible\" : teacher,\n",
    "        \"Period\" : period,\n",
    "        \"Theme\" : theme,\n",
    "        \"URL\" : url\n",
    "    }\n",
    "    return course_code, values"
   ]
  },
  {
   "cell_type": "code",
   "execution_count": 53,
   "metadata": {
    "collapsed": true
   },
   "outputs": [],
   "source": [
    "def get_course_data(course_urls):\n",
    "    course_data = {}\n",
    "    for theme, urls in course_urls.items():\n",
    "        for url in urls:\n",
    "            key, value = scrape_single_course(url, theme)\n",
    "            course_data[key] = value\n",
    "    return course_data    "
   ]
  },
  {
   "cell_type": "code",
   "execution_count": 54,
   "metadata": {
    "collapsed": true
   },
   "outputs": [],
   "source": [
    "def save_to_csv(df, name_postfix):\n",
    "    filename = datetime.datetime.today().strftime('%Y-%m-%d_') + name_postfix + \".csv\"\n",
    "    if name_postfix == 'full':\n",
    "        df.to_csv(filename, encoding='utf-8')\n",
    "    else: \n",
    "        df.to_csv(filename, encoding='utf-8', index_label='Course code')\n",
    "    return filename"
   ]
  },
  {
   "cell_type": "code",
   "execution_count": 55,
   "metadata": {
    "collapsed": true
   },
   "outputs": [],
   "source": [
    "def convert_to_df(data):\n",
    "    return pd.DataFrame.from_dict(data, orient='index')"
   ]
  },
  {
   "cell_type": "code",
   "execution_count": 56,
   "metadata": {},
   "outputs": [],
   "source": [
    "def create_df(course_type):\n",
    "    if course_type == 'perus':\n",
    "        index_url = 'http://www.tut.fi/opinto-opas/wwwoppaat/opas2018-2019/perus/aineryhmat/index.html'\n",
    "    elif course_type == 'jatko':\n",
    "        index_url = 'http://www.tut.fi/opinto-opas/wwwoppaat/opas2018-2019/jatko/aineryhmat/index.html'\n",
    "    \n",
    "    raw_index_html = simple_get(index_url)\n",
    "    index_html = soup(raw_index_html, 'html.parser')\n",
    "    theme_urls = get_urls_from_ul(index_html.find_all('ul')[2], 6)\n",
    "    course_urls = get_course_urls(theme_urls)\n",
    "    course_data = get_course_data(course_urls)\n",
    "    return convert_to_df(course_data)"
   ]
  },
  {
   "cell_type": "code",
   "execution_count": 57,
   "metadata": {
    "collapsed": true
   },
   "outputs": [],
   "source": [
    "def get_azure_credentials():\n",
    "    config = configparser.ConfigParser()\n",
    "    # Edit this to point to your configuration file\n",
    "    config.read(\"C:\\\\Users\\\\Aleksi Roima\\\\Documents\\\\azure_config.txt\")\n",
    "    \n",
    "    account_name = config.get('Azure', 'storage_account')\n",
    "    account_key = config.get('Azure', 'storage_key')\n",
    "    return account_name, account_key"
   ]
  },
  {
   "cell_type": "code",
   "execution_count": 58,
   "metadata": {
    "collapsed": true
   },
   "outputs": [],
   "source": [
    "def get_blob_service():\n",
    "    account_name, account_key = get_azure_credentials()\n",
    "    return BlockBlobService(account_name=account_name, account_key=account_key)"
   ]
  },
  {
   "cell_type": "code",
   "execution_count": 59,
   "metadata": {
    "collapsed": true
   },
   "outputs": [],
   "source": [
    "def move_to_blob(container, filename):\n",
    "    blob_serv = get_blob_service()\n",
    "    cwd = os.getcwd()\n",
    "    file_path = os.path.join(cwd, filename)\n",
    "    blob_serv.create_blob_from_path(container, filename, file_path)"
   ]
  },
  {
   "cell_type": "code",
   "execution_count": 60,
   "metadata": {},
   "outputs": [],
   "source": [
    "def main():\n",
    "    perus_df = create_df('perus')\n",
    "    jatko_df = create_df('jatko')\n",
    "    full_df = pd.concat([perus_df, jatko_df])\n",
    "    filename = save_to_csv(full_df, 'full')\n",
    "    move_to_blob('income', filename)\n",
    "main()"
   ]
  },
  {
   "cell_type": "code",
   "execution_count": null,
   "metadata": {
    "collapsed": true
   },
   "outputs": [],
   "source": []
  }
 ],
 "metadata": {
  "kernelspec": {
   "display_name": "Python 3",
   "language": "python",
   "name": "python3"
  },
  "language_info": {
   "codemirror_mode": {
    "name": "ipython",
    "version": 3
   },
   "file_extension": ".py",
   "mimetype": "text/x-python",
   "name": "python",
   "nbconvert_exporter": "python",
   "pygments_lexer": "ipython3",
   "version": "3.6.3"
  }
 },
 "nbformat": 4,
 "nbformat_minor": 2
}
